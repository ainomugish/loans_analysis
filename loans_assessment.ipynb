{
 "cells": [
  {
   "cell_type": "code",
   "execution_count": 2,
   "metadata": {},
   "outputs": [
    {
     "ename": "ModuleNotFoundError",
     "evalue": "No module named 'pandas_profiling'",
     "output_type": "error",
     "traceback": [
      "\u001b[0;31m---------------------------------------------------------------------------\u001b[0m",
      "\u001b[0;31mModuleNotFoundError\u001b[0m                       Traceback (most recent call last)",
      "\u001b[0;32m<ipython-input-2-5a3f72ed9e6b>\u001b[0m in \u001b[0;36m<module>\u001b[0;34m\u001b[0m\n\u001b[1;32m      7\u001b[0m \u001b[0;31m#stats tools\u001b[0m\u001b[0;34m\u001b[0m\u001b[0;34m\u001b[0m\u001b[0;34m\u001b[0m\u001b[0m\n\u001b[1;32m      8\u001b[0m \u001b[0;32mimport\u001b[0m \u001b[0mpandas\u001b[0m \u001b[0;32mas\u001b[0m \u001b[0mpd\u001b[0m\u001b[0;34m\u001b[0m\u001b[0;34m\u001b[0m\u001b[0m\n\u001b[0;32m----> 9\u001b[0;31m \u001b[0;32mimport\u001b[0m \u001b[0mpandas_profiling\u001b[0m\u001b[0;34m\u001b[0m\u001b[0;34m\u001b[0m\u001b[0m\n\u001b[0m\u001b[1;32m     10\u001b[0m \u001b[0;34m\u001b[0m\u001b[0m\n\u001b[1;32m     11\u001b[0m \u001b[0;31m#Ingest CSV input data file and modify data types\u001b[0m\u001b[0;34m\u001b[0m\u001b[0;34m\u001b[0m\u001b[0;34m\u001b[0m\u001b[0m\n",
      "\u001b[0;31mModuleNotFoundError\u001b[0m: No module named 'pandas_profiling'"
     ]
    }
   ],
   "source": [
    "#ETL tools\n",
    "import psycopg2\n",
    "import pygrametl\n",
    "from pygrametl.datasources import SQLSource, CSVSource, PandasSource\n",
    "from pygrametl.tables import Dimension, FactTable, CachedDimension, BulkFactTable\n",
    "\n",
    "#stats tools\n",
    "import pandas as pd\n",
    "import pandas_profiling\n",
    "\n",
    "#Ingest CSV input data file and modify data types\n",
    "filename = '../../../Applications/Assessment/loans.csv'\n",
    "names = ['End of Period','loannumber','region','countrycode','country','Borrower','Guarantor Country Code','Guarantor','Loan Type','Loan Status','Interest Rate','Currency of Commitment','projectidsrc','projectname' ,'orig_principal_amt','cancelled_amt','undisbursed_amt','disbursed_amt','repaid_to_ibrd','Due to IBRD','Exchange Adjustment','Borrower\\'s Obligation','Sold 3rd Party','Repaid 3rd Party','Due 3rd Party','Loans Held','First Repayment Date','Last Repayment Date','Agreement Signing Date','Board Approval Date','Effective Date','Closed Date','Last Disbursement Date']\n",
    "data = pd.read_csv(filename, names=names, skiprows=1)\n",
    "data['projectidsrc'] = data['projectidsrc'].astype(str)\n",
    "data['countrycode'] = data['countrycode'].astype(str)\n",
    "data['countrycode'] = data['countrycode'].astype(str).upper()\n",
    "# df['End of Period'] = pd.to_numeric(df['End of Period'])\n",
    "# df['Due 3rd Party'] = pd.to_datetime(df['Due 3rd Party']) "
   ]
  },
  {
   "cell_type": "code",
   "execution_count": null,
   "metadata": {},
   "outputs": [],
   "source": [
    "#Explore data\n",
    "#peek = data.head(20)\n",
    "#print(peek)\n",
    "#print(data.shape)\n",
    "#print(peek.shape)\n",
    "#types = data.dtypes\n",
    "#print(types)\n",
    "#types = data.dtypes\n",
    "#print(types)\n",
    "#pd.set_option( 'display.width' , 100)\n",
    "#pd.set_option( 'precision' , 3)\n",
    "#description = data.describe()\n",
    "#print(description)\n",
    "#class_counts = data.groupby( 'projectname' ).size()\n",
    "#print(class_counts)"
   ]
  },
  {
   "cell_type": "code",
   "execution_count": null,
   "metadata": {},
   "outputs": [],
   "source": [
    "#profile the data - Statistics\n",
    "pandas_profiling.ProfileReport(data)"
   ]
  },
  {
   "cell_type": "code",
   "execution_count": null,
   "metadata": {},
   "outputs": [],
   "source": [
    "\n",
    "data.drop(columns=['Borrower','Guarantor Country Code','Guarantor','Loan Type','Loan Status','Interest Rate','Currency of Commitment','Due to IBRD','Exchange Adjustment','Borrower\\'s Obligation','Sold 3rd Party','Repaid 3rd Party','Due 3rd Party','Loans Held','First Repayment Date','Last Repayment Date','Agreement Signing Date','Board Approval Date','Effective Date','Closed Date','Last Disbursement Date'])\n",
    "dataPS = PandasSource(data)"
   ]
  },
  {
   "cell_type": "code",
   "execution_count": null,
   "metadata": {},
   "outputs": [],
   "source": [
    "#datawarehouse connection\n",
    "dw_string = \"host='localhost' dbname='dw1' user='dw' password='dwhouse'\"\n",
    "dw_pgconn = psycopg2.connect(dw_string)\n",
    "dw_conn_wrapper = pygrametl.ConnectionWrapper(connection=dw_pgconn)\n",
    "\n",
    "#bulk insert method\n",
    "def bulkloader(name, attributes, fieldsep, rowsep, nullval, filehandle):\n",
    "    cursor = dw_conn_wrapper.cursor()\n",
    "    cursor.copy_from(file=filehandle, table=name, sep=fieldsep,null=\"nullval\",\n",
    "                     columns=attributes)"
   ]
  },
  {
   "cell_type": "code",
   "execution_count": null,
   "metadata": {},
   "outputs": [],
   "source": [
    "#Dimension and Fact objects\n",
    "loan_dimension = CachedDimension(\n",
    "    name='loandim',\n",
    "    key='loanid',\n",
    "    attributes=['loannumber'],\n",
    "    lookupatts=['loannumber'],\n",
    "    prefill=True)\n",
    "\n",
    "eop_dimension = CachedDimension(\n",
    "    name='eopdim',\n",
    "    key='eopid',\n",
    "    attributes=['day', 'month', 'year'],\n",
    "    lookupatts=['day','month','year'],\n",
    "    prefill=True)\n",
    "\n",
    "country_dimension = CachedDimension(\n",
    "    name='countrydim',\n",
    "    key='countryid',\n",
    "    attributes=['countrycode', 'country'],\n",
    "    lookupatts=['country'],\n",
    "    prefill=True)\n",
    "\n",
    "region_dimension = CachedDimension(\n",
    "    name='regiondim',\n",
    "    key='regionid',\n",
    "    attributes=['region'],\n",
    "    lookupatts=['region'],\n",
    "    prefill=True)\n",
    "\n",
    "project_dimension = CachedDimension(\n",
    "    name='projectdim',\n",
    "    key='projectid',\n",
    "    attributes=['projectidsrc', 'projectname'],\n",
    "    lookupatts=['projectidsrc'],\n",
    "    prefill=True)\n",
    "\n",
    "fact_table = BulkFactTable(\n",
    "    name='loanfact',\n",
    "    keyrefs=['loanid', 'eopid', 'countryid','regionid','projectid'],\n",
    "    measures=['orig_principal_amt','cancelled_amt','undisbursed_amt','disbursed_amt','repaid_to_ibrd'],\n",
    "    bulkloader=bulkloader,\n",
    "    bulksize=1000000)\n"
   ]
  },
  {
   "cell_type": "code",
   "execution_count": null,
   "metadata": {},
   "outputs": [],
   "source": [
    "# A normal Python function is used to split the timestamp into its parts\n",
    "def split_timestamp(row):\n",
    "    timestamp = row['End of Period']\n",
    "    timestamp = timestamp[:10]\n",
    "    timestamp_split = timestamp.split('-')\n",
    "    row['year'] = timestamp_split[0]\n",
    "    row['month'] = timestamp_split[1]\n",
    "    row['day'] = timestamp_split[2]\n"
   ]
  },
  {
   "cell_type": "code",
   "execution_count": null,
   "metadata": {},
   "outputs": [],
   "source": [
    "#save data to database\n",
    "for row in dataPS:\n",
    "    split_timestamp(row)\n",
    "    row['loanid'] = loan_dimension.ensure(row)\n",
    "    row['eopid'] = eop_dimension.ensure(row)\n",
    "    row['countryid'] = country_dimension.ensure(row, namemapping={'countrycode':'countrycode'})\n",
    "    row['regionid'] = region_dimension.ensure(row)\n",
    "    row['projectid'] = project_dimension.ensure(row)\n",
    "    #insert fact\n",
    "    fact_table.insert(row)\n",
    "    \n",
    "dw_conn_wrapper.commit()\n",
    "dw_conn_wrapper.close()"
   ]
  },
  {
   "cell_type": "code",
   "execution_count": null,
   "metadata": {},
   "outputs": [],
   "source": [
    "data.columns"
   ]
  },
  {
   "cell_type": "code",
   "execution_count": null,
   "metadata": {},
   "outputs": [],
   "source": [
    "print(data.head(3))"
   ]
  },
  {
   "cell_type": "code",
   "execution_count": null,
   "metadata": {},
   "outputs": [],
   "source": [
    "data.isnull().sum()"
   ]
  },
  {
   "cell_type": "code",
   "execution_count": null,
   "metadata": {},
   "outputs": [],
   "source": []
  }
 ],
 "metadata": {
  "kernelspec": {
   "display_name": "Python 3",
   "language": "python",
   "name": "python3"
  },
  "language_info": {
   "codemirror_mode": {
    "name": "ipython",
    "version": 3
   },
   "file_extension": ".py",
   "mimetype": "text/x-python",
   "name": "python",
   "nbconvert_exporter": "python",
   "pygments_lexer": "ipython3",
   "version": "3.7.7"
  }
 },
 "nbformat": 4,
 "nbformat_minor": 4
}
