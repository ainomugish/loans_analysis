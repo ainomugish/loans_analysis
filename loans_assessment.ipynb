{
 "cells": [
  {
   "cell_type": "code",
   "execution_count": 1,
   "metadata": {},
   "outputs": [
    {
     "name": "stderr",
     "output_type": "stream",
     "text": [
      "/home/itumusiime/anaconda3/lib/python3.7/site-packages/IPython/core/interactiveshell.py:3063: DtypeWarning: Columns (12,13,32) have mixed types.Specify dtype option on import or set low_memory=False.\n",
      "  interactivity=interactivity, compiler=compiler, result=result)\n"
     ]
    }
   ],
   "source": [
    "import psycopg2\n",
    "import pygrametl\n",
    "from pygrametl.datasources import SQLSource, CSVSource, PandasSource\n",
    "from pygrametl.tables import Dimension, FactTable\n",
    "import pandas as pd\n",
    "\n",
    "filename = '../../Applications/Assessment/loans.csv'\n",
    "names = ['End of Period','loannumber','region','countrycode','country','Borrower','Guarantor Country Code','Guarantor','Loan Type','Loan Status','Interest Rate','Currency of Commitment','projectidsrc','projectname' ,'orig_principal_amt','cancelled_amt','undisbursed_amt','disbursed_amt','repaid_to_ibrd','Due to IBRD','Exchange Adjustment','Borrower\\'s Obligation','Sold 3rd Party','Repaid 3rd Party','Due 3rd Party','Loans Held','First Repayment Date','Last Repayment Date','Agreement Signing Date','Board Approval Date','Effective Date','Closed Date','Last Disbursement Date']\n",
    "data = pd.read_csv(filename, names=names, skiprows=1)\n",
    "data['projectidsrc'] = data['projectidsrc'].astype(str)\n",
    "data['countrycode'] = data['countrycode'].astype(str)"
   ]
  },
  {
   "cell_type": "code",
   "execution_count": 2,
   "metadata": {},
   "outputs": [
    {
     "name": "stdout",
     "output_type": "stream",
     "text": [
      "              End of Period loannumber                   region countrycode  \\\n",
      "0   2011-04-30T00:00:00.000  IBRD00010  EUROPE AND CENTRAL ASIA          FR   \n",
      "1   2011-05-31T00:00:00.000  IBRD00010  EUROPE AND CENTRAL ASIA          FR   \n",
      "2   2011-06-30T00:00:00.000  IBRD00010  EUROPE AND CENTRAL ASIA          FR   \n",
      "3   2011-07-31T00:00:00.000  IBRD00010  EUROPE AND CENTRAL ASIA          FR   \n",
      "4   2011-08-31T00:00:00.000  IBRD00010  EUROPE AND CENTRAL ASIA          FR   \n",
      "5   2011-09-30T00:00:00.000  IBRD00010  EUROPE AND CENTRAL ASIA          FR   \n",
      "6   2011-10-31T00:00:00.000  IBRD00010  EUROPE AND CENTRAL ASIA          FR   \n",
      "7   2011-11-30T00:00:00.000  IBRD00010  EUROPE AND CENTRAL ASIA          FR   \n",
      "8   2011-12-31T00:00:00.000  IBRD00010  EUROPE AND CENTRAL ASIA          FR   \n",
      "9   2012-01-31T00:00:00.000  IBRD00010  EUROPE AND CENTRAL ASIA          FR   \n",
      "10  2012-02-29T00:00:00.000  IBRD00010  EUROPE AND CENTRAL ASIA          FR   \n",
      "11  2012-03-31T00:00:00.000  IBRD00010  EUROPE AND CENTRAL ASIA          FR   \n",
      "12  2012-04-30T00:00:00.000  IBRD00010  EUROPE AND CENTRAL ASIA          FR   \n",
      "13  2012-05-31T00:00:00.000  IBRD00010  EUROPE AND CENTRAL ASIA          FR   \n",
      "14  2012-06-30T00:00:00.000  IBRD00010  EUROPE AND CENTRAL ASIA          FR   \n",
      "15  2012-07-31T00:00:00.000  IBRD00010  EUROPE AND CENTRAL ASIA          FR   \n",
      "16  2012-08-31T00:00:00.000  IBRD00010  EUROPE AND CENTRAL ASIA          FR   \n",
      "17  2012-09-30T00:00:00.000  IBRD00010  EUROPE AND CENTRAL ASIA          FR   \n",
      "18  2012-10-31T00:00:00.000  IBRD00010  EUROPE AND CENTRAL ASIA          FR   \n",
      "19  2012-11-30T00:00:00.000  IBRD00010  EUROPE AND CENTRAL ASIA          FR   \n",
      "\n",
      "   country         Borrower Guarantor Country Code Guarantor Loan Type  \\\n",
      "0   France  CREDIT NATIONAL                     FR    France  NON POOL   \n",
      "1   France  CREDIT NATIONAL                     FR    France  NON POOL   \n",
      "2   France  CREDIT NATIONAL                     FR    France  NON POOL   \n",
      "3   France  CREDIT NATIONAL                     FR    France  NON POOL   \n",
      "4   France  CREDIT NATIONAL                     FR    France  NON POOL   \n",
      "5   France  CREDIT NATIONAL                     FR    France  NON POOL   \n",
      "6   France  CREDIT NATIONAL                     FR    France  NON POOL   \n",
      "7   France  CREDIT NATIONAL                     FR    France  NON POOL   \n",
      "8   France  CREDIT NATIONAL                     FR    France  NON POOL   \n",
      "9   France  CREDIT NATIONAL                     FR    France  NON POOL   \n",
      "10  France  CREDIT NATIONAL                     FR    France  NON POOL   \n",
      "11  France  CREDIT NATIONAL                     FR    France  NON POOL   \n",
      "12  France  CREDIT NATIONAL                     FR    France  NON POOL   \n",
      "13  France  CREDIT NATIONAL                     FR    France  NON POOL   \n",
      "14  France  CREDIT NATIONAL                     FR    France  NON POOL   \n",
      "15  France  CREDIT NATIONAL                     FR    France  NON POOL   \n",
      "16  France  CREDIT NATIONAL                     FR    France  NON POOL   \n",
      "17  France  CREDIT NATIONAL                     FR    France  NON POOL   \n",
      "18  France  CREDIT NATIONAL                     FR    France  NON POOL   \n",
      "19  France  CREDIT NATIONAL                     FR    France  NON POOL   \n",
      "\n",
      "   Loan Status  ...  Repaid 3rd Party  Due 3rd Party Loans Held  \\\n",
      "0       Repaid  ...       249962000.0            0.0        0.0   \n",
      "1       Repaid  ...       249962000.0            0.0        0.0   \n",
      "2       Repaid  ...       249962000.0            0.0        0.0   \n",
      "3       Repaid  ...       249962000.0            0.0        0.0   \n",
      "4       Repaid  ...       249962000.0            0.0        0.0   \n",
      "5       Repaid  ...       249962000.0            0.0        0.0   \n",
      "6       Repaid  ...       249962000.0            0.0        0.0   \n",
      "7       Repaid  ...       249962000.0            0.0        0.0   \n",
      "8       Repaid  ...       249962000.0            0.0        0.0   \n",
      "9       Repaid  ...       249962000.0            0.0        0.0   \n",
      "10      Repaid  ...       249962000.0            0.0        0.0   \n",
      "11      Repaid  ...       249962000.0            0.0        0.0   \n",
      "12      Repaid  ...       249962000.0            0.0        0.0   \n",
      "13      Repaid  ...       249962000.0            0.0        0.0   \n",
      "14      Repaid  ...       249962000.0            0.0        0.0   \n",
      "15      Repaid  ...       249962000.0            0.0        0.0   \n",
      "16      Repaid  ...       249962000.0            0.0        0.0   \n",
      "17      Repaid  ...       249962000.0            0.0        0.0   \n",
      "18      Repaid  ...       249962000.0            0.0        0.0   \n",
      "19      Repaid  ...       249962000.0            0.0        0.0   \n",
      "\n",
      "       First Repayment Date      Last Repayment Date   Agreement Signing Date  \\\n",
      "0   1952-11-01T00:00:00.000  1977-05-01T00:00:00.000  1947-05-09T00:00:00.000   \n",
      "1   1952-11-01T00:00:00.000  1977-05-01T00:00:00.000  1947-05-09T00:00:00.000   \n",
      "2   1952-11-01T00:00:00.000  1977-05-01T00:00:00.000  1947-05-09T00:00:00.000   \n",
      "3   1952-11-01T00:00:00.000  1977-05-01T00:00:00.000  1947-05-09T00:00:00.000   \n",
      "4   1952-11-01T00:00:00.000  1977-05-01T00:00:00.000  1947-05-09T00:00:00.000   \n",
      "5   1952-11-01T00:00:00.000  1977-05-01T00:00:00.000  1947-05-09T00:00:00.000   \n",
      "6   1952-11-01T00:00:00.000  1977-05-01T00:00:00.000  1947-05-09T00:00:00.000   \n",
      "7   1952-11-01T00:00:00.000  1977-05-01T00:00:00.000  1947-05-09T00:00:00.000   \n",
      "8   1952-11-01T00:00:00.000  1977-05-01T00:00:00.000  1947-05-09T00:00:00.000   \n",
      "9   1952-11-01T00:00:00.000  1977-05-01T00:00:00.000  1947-05-09T00:00:00.000   \n",
      "10  1952-11-01T00:00:00.000  1977-05-01T00:00:00.000  1947-05-09T00:00:00.000   \n",
      "11  1952-11-01T00:00:00.000  1977-05-01T00:00:00.000  1947-05-09T00:00:00.000   \n",
      "12  1952-11-01T00:00:00.000  1977-05-01T00:00:00.000  1947-05-09T00:00:00.000   \n",
      "13  1952-11-01T00:00:00.000  1977-05-01T00:00:00.000  1947-05-09T00:00:00.000   \n",
      "14  1952-11-01T00:00:00.000  1977-05-01T00:00:00.000  1947-05-09T00:00:00.000   \n",
      "15  1952-11-01T00:00:00.000  1977-05-01T00:00:00.000  1947-05-09T00:00:00.000   \n",
      "16  1952-11-01T00:00:00.000  1977-05-01T00:00:00.000  1947-05-09T00:00:00.000   \n",
      "17  1952-11-01T00:00:00.000  1977-05-01T00:00:00.000  1947-05-09T00:00:00.000   \n",
      "18  1952-11-01T00:00:00.000  1977-05-01T00:00:00.000  1947-05-09T00:00:00.000   \n",
      "19  1952-11-01T00:00:00.000  1977-05-01T00:00:00.000  1947-05-09T00:00:00.000   \n",
      "\n",
      "        Board Approval Date           Effective Date              Closed Date  \\\n",
      "0   1947-05-09T00:00:00.000  1947-06-09T00:00:00.000  1947-12-31T00:00:00.000   \n",
      "1   1947-05-09T00:00:00.000  1947-06-09T00:00:00.000  1947-12-31T00:00:00.000   \n",
      "2   1947-05-09T00:00:00.000  1947-06-09T00:00:00.000  1947-12-31T00:00:00.000   \n",
      "3   1947-05-09T00:00:00.000  1947-06-09T00:00:00.000  1947-12-31T00:00:00.000   \n",
      "4   1947-05-09T00:00:00.000  1947-06-09T00:00:00.000  1947-12-31T00:00:00.000   \n",
      "5   1947-05-09T00:00:00.000  1947-06-09T00:00:00.000  1947-12-31T00:00:00.000   \n",
      "6   1947-05-09T00:00:00.000  1947-06-09T00:00:00.000  1947-12-31T00:00:00.000   \n",
      "7   1947-05-09T00:00:00.000  1947-06-09T00:00:00.000  1947-12-31T00:00:00.000   \n",
      "8   1947-05-09T00:00:00.000  1947-06-09T00:00:00.000  1947-12-31T00:00:00.000   \n",
      "9   1947-05-09T00:00:00.000  1947-06-09T00:00:00.000  1947-12-31T00:00:00.000   \n",
      "10  1947-05-09T00:00:00.000  1947-06-09T00:00:00.000  1947-12-31T00:00:00.000   \n",
      "11  1947-05-09T00:00:00.000  1947-06-09T00:00:00.000  1947-12-31T00:00:00.000   \n",
      "12  1947-05-09T00:00:00.000  1947-06-09T00:00:00.000  1947-12-31T00:00:00.000   \n",
      "13  1947-05-09T00:00:00.000  1947-06-09T00:00:00.000  1947-12-31T00:00:00.000   \n",
      "14  1947-05-09T00:00:00.000  1947-06-09T00:00:00.000  1947-12-31T00:00:00.000   \n",
      "15  1947-05-09T00:00:00.000  1947-06-09T00:00:00.000  1947-12-31T00:00:00.000   \n",
      "16  1947-05-09T00:00:00.000  1947-06-09T00:00:00.000  1947-12-31T00:00:00.000   \n",
      "17  1947-05-09T00:00:00.000  1947-06-09T00:00:00.000  1947-12-31T00:00:00.000   \n",
      "18  1947-05-09T00:00:00.000  1947-06-09T00:00:00.000  1947-12-31T00:00:00.000   \n",
      "19  1947-05-09T00:00:00.000  1947-06-09T00:00:00.000  1947-12-31T00:00:00.000   \n",
      "\n",
      "    Last Disbursement Date  \n",
      "0                      NaN  \n",
      "1                      NaN  \n",
      "2                      NaN  \n",
      "3                      NaN  \n",
      "4                      NaN  \n",
      "5                      NaN  \n",
      "6                      NaN  \n",
      "7                      NaN  \n",
      "8                      NaN  \n",
      "9                      NaN  \n",
      "10                     NaN  \n",
      "11                     NaN  \n",
      "12                     NaN  \n",
      "13                     NaN  \n",
      "14                     NaN  \n",
      "15                     NaN  \n",
      "16                     NaN  \n",
      "17                     NaN  \n",
      "18                     NaN  \n",
      "19                     NaN  \n",
      "\n",
      "[20 rows x 33 columns]\n"
     ]
    }
   ],
   "source": [
    "peek = data.head(20)\n",
    "print(peek)"
   ]
  },
  {
   "cell_type": "code",
   "execution_count": 3,
   "metadata": {},
   "outputs": [
    {
     "name": "stdout",
     "output_type": "stream",
     "text": [
      "(854942, 33)\n"
     ]
    }
   ],
   "source": [
    "print(data.shape)"
   ]
  },
  {
   "cell_type": "code",
   "execution_count": 4,
   "metadata": {},
   "outputs": [
    {
     "name": "stdout",
     "output_type": "stream",
     "text": [
      "(20, 33)\n"
     ]
    }
   ],
   "source": [
    "print(peek.shape)"
   ]
  },
  {
   "cell_type": "code",
   "execution_count": 5,
   "metadata": {},
   "outputs": [
    {
     "name": "stdout",
     "output_type": "stream",
     "text": [
      "End of Period              object\n",
      "loannumber                 object\n",
      "region                     object\n",
      "countrycode                object\n",
      "country                    object\n",
      "Borrower                   object\n",
      "Guarantor Country Code     object\n",
      "Guarantor                  object\n",
      "Loan Type                  object\n",
      "Loan Status                object\n",
      "Interest Rate             float64\n",
      "Currency of Commitment    float64\n",
      "projectidsrc               object\n",
      "projectname                object\n",
      "orig_principal_amt        float64\n",
      "cancelled_amt             float64\n",
      "undisbursed_amt           float64\n",
      "disbursed_amt             float64\n",
      "repaid_to_ibrd            float64\n",
      "Due to IBRD               float64\n",
      "Exchange Adjustment       float64\n",
      "Borrower's Obligation     float64\n",
      "Sold 3rd Party            float64\n",
      "Repaid 3rd Party          float64\n",
      "Due 3rd Party             float64\n",
      "Loans Held                float64\n",
      "First Repayment Date       object\n",
      "Last Repayment Date        object\n",
      "Agreement Signing Date     object\n",
      "Board Approval Date        object\n",
      "Effective Date             object\n",
      "Closed Date                object\n",
      "Last Disbursement Date     object\n",
      "dtype: object\n"
     ]
    }
   ],
   "source": [
    "types = data.dtypes\n",
    "print(types)"
   ]
  },
  {
   "cell_type": "code",
   "execution_count": 6,
   "metadata": {},
   "outputs": [
    {
     "name": "stdout",
     "output_type": "stream",
     "text": [
      "       Interest Rate  Currency of Commitment  orig_principal_amt  cancelled_amt  undisbursed_amt  \\\n",
      "count     827914.000                     0.0           8.549e+05      8.549e+05        8.549e+05   \n",
      "mean           4.706                     NaN           7.724e+07      9.715e+06        7.680e+06   \n",
      "std            3.384                     NaN           1.491e+08      4.478e+07        5.392e+07   \n",
      "min            0.000                     NaN           0.000e+00      0.000e+00       -1.000e-01   \n",
      "25%            0.830                     NaN           1.000e+07      0.000e+00        0.000e+00   \n",
      "50%            5.580                     NaN           3.000e+07      2.552e+02        0.000e+00   \n",
      "75%            7.350                     NaN           8.522e+07      3.518e+06        0.000e+00   \n",
      "max           17.000                     NaN           3.750e+09      1.995e+09        3.379e+09   \n",
      "\n",
      "       disbursed_amt  repaid_to_ibrd  Due to IBRD  Exchange Adjustment  Borrower's Obligation  \\\n",
      "count      8.549e+05       8.549e+05    8.549e+05            8.549e+05              8.549e+05   \n",
      "mean       5.987e+07       4.001e+07    1.955e+07           -2.385e+05              1.931e+07   \n",
      "std        1.283e+08       8.842e+07    9.425e+07            9.399e+06              9.159e+07   \n",
      "min        0.000e+00       0.000e+00   -1.005e+08           -7.337e+08             -2.000e-01   \n",
      "25%        5.627e+06       2.466e+06    0.000e+00            0.000e+00              0.000e+00   \n",
      "50%        2.079e+07       1.401e+07    0.000e+00            0.000e+00              0.000e+00   \n",
      "75%        6.020e+07       4.139e+07    0.000e+00            0.000e+00              0.000e+00   \n",
      "max        3.076e+09       3.000e+09    2.923e+09            5.066e+08              2.843e+09   \n",
      "\n",
      "       Sold 3rd Party  Repaid 3rd Party  Due 3rd Party  Loans Held  \n",
      "count       8.549e+05         8.549e+05       854942.0   8.549e+05  \n",
      "mean        4.438e+05         4.438e+05            0.0   2.723e+07  \n",
      "std         3.874e+06         3.874e+06            0.0   1.144e+08  \n",
      "min         0.000e+00         0.000e+00            0.0  -1.005e+08  \n",
      "25%         0.000e+00         0.000e+00            0.0   0.000e+00  \n",
      "50%         0.000e+00         0.000e+00            0.0   0.000e+00  \n",
      "75%         0.000e+00         0.000e+00            0.0   0.000e+00  \n",
      "max         2.500e+08         2.500e+08            0.0   3.750e+09  \n"
     ]
    }
   ],
   "source": [
    "pd.set_option( 'display.width' , 100)\n",
    "pd.set_option( 'precision' , 3)\n",
    "description = data.describe()\n",
    "print(description)\n"
   ]
  },
  {
   "cell_type": "code",
   "execution_count": 7,
   "metadata": {},
   "outputs": [
    {
     "name": "stdout",
     "output_type": "stream",
     "text": [
      "projectname\n",
      "  COAL IAP                                   66\n",
      " AR 2nd Norte Grande Water Infrastr          32\n",
      " BR Manaus Service Delivery & Fisca          10\n",
      " BR Manaus Service Delivery & Fiscal Mgm      8\n",
      " CN-Beijing Rooftop Solar PV Scale-          36\n",
      "                                           ... \n",
      "Zhuzhou Brownfield Remediation Proj           7\n",
      "Zhuzhou Brownfield Remediation Project       17\n",
      "Zimbabwe:FOREST RESOURCE MGT&                83\n",
      "eGabon                                       21\n",
      "fOC TRNG SCTR                               249\n",
      "Length: 6346, dtype: int64\n"
     ]
    }
   ],
   "source": [
    "class_counts = data.groupby( 'projectname' ).size()\n",
    "print(class_counts)"
   ]
  },
  {
   "cell_type": "code",
   "execution_count": 8,
   "metadata": {},
   "outputs": [],
   "source": [
    "data.drop(columns=['Borrower','Guarantor Country Code','Guarantor','Loan Type','Loan Status','Interest Rate','Currency of Commitment','Due to IBRD','Exchange Adjustment','Borrower\\'s Obligation','Sold 3rd Party','Repaid 3rd Party','Due 3rd Party','Loans Held','First Repayment Date','Last Repayment Date','Agreement Signing Date','Board Approval Date','Effective Date','Closed Date','Last Disbursement Date'])\n",
    "dataPS = PandasSource(data)"
   ]
  },
  {
   "cell_type": "code",
   "execution_count": 9,
   "metadata": {},
   "outputs": [],
   "source": [
    "#datawarehouse connection\n",
    "dw_string = \"host='localhost' dbname='dw' user='dw' password='dwhouse'\"\n",
    "dw_pgconn = psycopg2.connect(dw_string)\n",
    "dw_conn_wrapper = pygrametl.ConnectionWrapper(connection=dw_pgconn)"
   ]
  },
  {
   "cell_type": "code",
   "execution_count": 10,
   "metadata": {},
   "outputs": [],
   "source": [
    "#Dimension and Fact objects\n",
    "loan_dimension = Dimension(\n",
    "    name='loandim',\n",
    "    key='loanid',\n",
    "    attributes=['loannumber'])\n",
    "\n",
    "eop_dimension = Dimension(\n",
    "    name='eopdim',\n",
    "    key='eopid',\n",
    "    attributes=['day', 'month', 'year'])\n",
    "\n",
    "country_dimension = Dimension(\n",
    "    name='countrydim',\n",
    "    key='countryid',\n",
    "    attributes=['countrycode', 'country'])\n",
    "\n",
    "region_dimension = Dimension(\n",
    "    name='regiondim',\n",
    "    key='regionid',\n",
    "    attributes=['region'])\n",
    "\n",
    "project_dimension = Dimension(\n",
    "    name='projectdim',\n",
    "    key='projectid',\n",
    "    attributes=['projectidsrc', 'projectname'],\n",
    "    lookupatts=['projectidsrc'])\n",
    "\n",
    "fact_table = FactTable(\n",
    "    name='loanfact',\n",
    "    keyrefs=['loanid', 'eopid', 'countryid','regionid','projectid'],\n",
    "    measures=['orig_principal_amt','cancelled_amt','undisbursed_amt','disbursed_amt','repaid_to_ibrd'])\n"
   ]
  },
  {
   "cell_type": "code",
   "execution_count": 11,
   "metadata": {},
   "outputs": [],
   "source": [
    "# A normal Python function is used to split the timestamp into its parts\n",
    "def split_timestamp(row):\n",
    "    timestamp = row['End of Period']\n",
    "    timestamp = timestamp[:10]\n",
    "    timestamp_split = timestamp.split('-')\n",
    "    row['year'] = timestamp_split[0]\n",
    "    row['month'] = timestamp_split[1]\n",
    "    row['day'] = timestamp_split[2]"
   ]
  },
  {
   "cell_type": "code",
   "execution_count": 12,
   "metadata": {},
   "outputs": [],
   "source": [
    "#save data to database\n",
    "for row in dataPS:\n",
    "    split_timestamp(row)\n",
    "    row['loanid'] = loan_dimension.ensure(row)\n",
    "    row['eopid'] = eop_dimension.ensure(row)\n",
    "    row['countryid'] = country_dimension.ensure(row, namemapping={'countrycode':'countrycode'})\n",
    "    row['regionid'] = region_dimension.ensure(row)\n",
    "    row['projectid'] = project_dimension.ensure(row)\n",
    "    #insert fact\n",
    "    fact_table.insert(row)\n",
    "    \n",
    "dw_conn_wrapper.commit()\n",
    "dw_conn_wrapper.close()"
   ]
  },
  {
   "cell_type": "code",
   "execution_count": 13,
   "metadata": {},
   "outputs": [
    {
     "data": {
      "text/plain": [
       "Index(['End of Period', 'loannumber', 'region', 'countrycode', 'country', 'Borrower',\n",
       "       'Guarantor Country Code', 'Guarantor', 'Loan Type', 'Loan Status', 'Interest Rate',\n",
       "       'Currency of Commitment', 'projectidsrc', 'projectname', 'orig_principal_amt',\n",
       "       'cancelled_amt', 'undisbursed_amt', 'disbursed_amt', 'repaid_to_ibrd', 'Due to IBRD',\n",
       "       'Exchange Adjustment', 'Borrower's Obligation', 'Sold 3rd Party', 'Repaid 3rd Party',\n",
       "       'Due 3rd Party', 'Loans Held', 'First Repayment Date', 'Last Repayment Date',\n",
       "       'Agreement Signing Date', 'Board Approval Date', 'Effective Date', 'Closed Date',\n",
       "       'Last Disbursement Date'],\n",
       "      dtype='object')"
      ]
     },
     "execution_count": 13,
     "metadata": {},
     "output_type": "execute_result"
    }
   ],
   "source": [
    "data.columns"
   ]
  },
  {
   "cell_type": "code",
   "execution_count": 14,
   "metadata": {},
   "outputs": [
    {
     "name": "stdout",
     "output_type": "stream",
     "text": [
      "             End of Period loannumber                   region countrycode country  \\\n",
      "0  2011-04-30T00:00:00.000  IBRD00010  EUROPE AND CENTRAL ASIA          FR  France   \n",
      "1  2011-05-31T00:00:00.000  IBRD00010  EUROPE AND CENTRAL ASIA          FR  France   \n",
      "2  2011-06-30T00:00:00.000  IBRD00010  EUROPE AND CENTRAL ASIA          FR  France   \n",
      "\n",
      "          Borrower Guarantor Country Code Guarantor Loan Type Loan Status  ...  Repaid 3rd Party  \\\n",
      "0  CREDIT NATIONAL                     FR    France  NON POOL      Repaid  ...         2.500e+08   \n",
      "1  CREDIT NATIONAL                     FR    France  NON POOL      Repaid  ...         2.500e+08   \n",
      "2  CREDIT NATIONAL                     FR    France  NON POOL      Repaid  ...         2.500e+08   \n",
      "\n",
      "   Due 3rd Party Loans Held     First Repayment Date      Last Repayment Date  \\\n",
      "0            0.0        0.0  1952-11-01T00:00:00.000  1977-05-01T00:00:00.000   \n",
      "1            0.0        0.0  1952-11-01T00:00:00.000  1977-05-01T00:00:00.000   \n",
      "2            0.0        0.0  1952-11-01T00:00:00.000  1977-05-01T00:00:00.000   \n",
      "\n",
      "    Agreement Signing Date      Board Approval Date           Effective Date  \\\n",
      "0  1947-05-09T00:00:00.000  1947-05-09T00:00:00.000  1947-06-09T00:00:00.000   \n",
      "1  1947-05-09T00:00:00.000  1947-05-09T00:00:00.000  1947-06-09T00:00:00.000   \n",
      "2  1947-05-09T00:00:00.000  1947-05-09T00:00:00.000  1947-06-09T00:00:00.000   \n",
      "\n",
      "               Closed Date  Last Disbursement Date  \n",
      "0  1947-12-31T00:00:00.000                     NaN  \n",
      "1  1947-12-31T00:00:00.000                     NaN  \n",
      "2  1947-12-31T00:00:00.000                     NaN  \n",
      "\n",
      "[3 rows x 33 columns]\n"
     ]
    }
   ],
   "source": [
    "print(data.head(3))"
   ]
  }
 ],
 "metadata": {
  "kernelspec": {
   "display_name": "Python 3",
   "language": "python",
   "name": "python3"
  },
  "language_info": {
   "codemirror_mode": {
    "name": "ipython",
    "version": 3
   },
   "file_extension": ".py",
   "mimetype": "text/x-python",
   "name": "python",
   "nbconvert_exporter": "python",
   "pygments_lexer": "ipython3",
   "version": "3.7.7"
  }
 },
 "nbformat": 4,
 "nbformat_minor": 4
}
