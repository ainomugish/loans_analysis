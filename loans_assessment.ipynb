{
 "cells": [
  {
   "cell_type": "code",
   "execution_count": 3,
   "metadata": {},
   "outputs": [],
   "source": [
    "########## ETL pipeline\n",
    "# ETL tools\n",
    "import psycopg2\n",
    "import pygrametl\n",
    "from pygrametl.datasources import SQLSource, CSVSource, PandasSource\n",
    "from pygrametl.tables import Dimension, FactTable, CachedDimension, BulkFactTable\n",
    "\n",
    "# stats tools\n",
    "import pandas as pd\n",
    "import pandas_profiling\n",
    "\n",
    "# Ingest CSV input data file and modify data types\n",
    "filename = '../../../Applications/Assessment/loans.csv'\n",
    "names = ['End of Period','loannumber','region','countrycode','country','Borrower','Guarantor Country Code','Guarantor','Loan Type','Loan Status','Interest Rate','Currency of Commitment','projectidsrc','projectname' ,'orig_principal_amt','cancelled_amt','undisbursed_amt','disbursed_amt','repaid_to_ibrd','Due to IBRD','Exchange Adjustment','Borrower\\'s Obligation','Sold 3rd Party','Repaid 3rd Party','Due 3rd Party','Loans Held','First Repayment Date','Last Repayment Date','Agreement Signing Date','Board Approval Date','Effective Date','Closed Date','Last Disbursement Date']\n",
    "data = pd.read_csv(filename, names=names, skiprows=1)\n",
    "data['projectidsrc'] = data['projectidsrc'].astype(str)\n",
    "data['countrycode'] = data['countrycode'].astype(str).str.upper()\n",
    "# df['End of Period'] = pd.to_numeric(df['End of Period'])\n",
    "# df['Due 3rd Party'] = pd.to_datetime(df['Due 3rd Party']) "
   ]
  },
  {
   "cell_type": "code",
   "execution_count": null,
   "metadata": {},
   "outputs": [],
   "source": [
    "##########Explore data --Commented out for brevity\n",
    "#peek = data.head(20)\n",
    "#print(peek)\n",
    "#print(data.shape)\n",
    "#print(peek.shape)\n",
    "#types = data.dtypes\n",
    "#print(types)\n",
    "#types = data.dtypes\n",
    "#print(types)\n",
    "#pd.set_option( 'display.width' , 100)\n",
    "#pd.set_option( 'precision' , 3)\n",
    "#description = data.describe()\n",
    "#print(description)\n",
    "#class_counts = data.groupby( 'projectname' ).size()\n",
    "#print(class_counts)\n",
    "#data.isnull().sum()\n",
    "#print(data.head(3))\n",
    "#data.columns"
   ]
  },
  {
   "cell_type": "code",
   "execution_count": 4,
   "metadata": {},
   "outputs": [
    {
     "data": {
      "application/vnd.jupyter.widget-view+json": {
       "model_id": "8634386ff812434b9088ba1643a5d032",
       "version_major": 2,
       "version_minor": 0
      },
      "text/plain": [
       "HBox(children=(FloatProgress(value=0.0, description='Summarize dataset', max=42.0, style=ProgressStyle(descrip…"
      ]
     },
     "metadata": {},
     "output_type": "display_data"
    },
    {
     "name": "stdout",
     "output_type": "stream",
     "text": [
      "\n"
     ]
    },
    {
     "data": {
      "application/vnd.jupyter.widget-view+json": {
       "model_id": "e88221bd346549f69c90113ab7837ac2",
       "version_major": 2,
       "version_minor": 0
      },
      "text/plain": [
       "HBox(children=(FloatProgress(value=0.0, description='Generate report structure', max=1.0, style=ProgressStyle(…"
      ]
     },
     "metadata": {},
     "output_type": "display_data"
    },
    {
     "name": "stdout",
     "output_type": "stream",
     "text": [
      "\n"
     ]
    },
    {
     "data": {
      "application/vnd.jupyter.widget-view+json": {
       "model_id": "bd07ad4996d242d99b8afccfe969caeb",
       "version_major": 2,
       "version_minor": 0
      },
      "text/plain": [
       "HBox(children=(FloatProgress(value=0.0, description='Render HTML', max=1.0, style=ProgressStyle(description_wi…"
      ]
     },
     "metadata": {},
     "output_type": "display_data"
    },
    {
     "name": "stdout",
     "output_type": "stream",
     "text": [
      "\n"
     ]
    },
    {
     "data": {
      "application/vnd.jupyter.widget-view+json": {
       "model_id": "af7211dd154f4ef3803bbf6de0d61567",
       "version_major": 2,
       "version_minor": 0
      },
      "text/plain": [
       "HBox(children=(FloatProgress(value=0.0, description='Export report to file', max=1.0, style=ProgressStyle(desc…"
      ]
     },
     "metadata": {},
     "output_type": "display_data"
    },
    {
     "name": "stdout",
     "output_type": "stream",
     "text": [
      "\n"
     ]
    }
   ],
   "source": [
    "##########Stats\n",
    "# profile the data - Statistics\n",
    "profile = pandas_profiling.ProfileReport(data,minimal=True)\n",
    "profile.to_file(\"../loan_report.html\")"
   ]
  },
  {
   "cell_type": "code",
   "execution_count": 5,
   "metadata": {},
   "outputs": [],
   "source": [
    "##########Database\n",
    "# datawarehouse connection\n",
    "data.drop(columns=['Borrower','Guarantor Country Code','Guarantor','Loan Type','Loan Status','Interest Rate','Currency of Commitment','Due to IBRD','Exchange Adjustment','Borrower\\'s Obligation','Sold 3rd Party','Repaid 3rd Party','Due 3rd Party','Loans Held','First Repayment Date','Last Repayment Date','Agreement Signing Date','Board Approval Date','Effective Date','Closed Date','Last Disbursement Date'])\n",
    "dataPS = PandasSource(data)\n",
    "dw_string = \"host='localhost' dbname='dw1' user='dw' password='dwhouse'\"\n",
    "dw_pgconn = psycopg2.connect(dw_string)\n",
    "dw_conn_wrapper = pygrametl.ConnectionWrapper(connection=dw_pgconn)\n"
   ]
  },
  {
   "cell_type": "code",
   "execution_count": 6,
   "metadata": {},
   "outputs": [],
   "source": [
    "##########Utility Methods\n",
    "# bulk insert method\n",
    "def bulkloader(name, attributes, fieldsep, rowsep, nullval, filehandle):\n",
    "    cursor = dw_conn_wrapper.cursor()\n",
    "    cursor.copy_from(file=filehandle, table=name, sep=fieldsep,null=\"nullval\",\n",
    "                     columns=attributes)\n",
    "    \n",
    "# split the timestamp into its parts\n",
    "def split_timestamp(row):\n",
    "    timestamp = row['End of Period']\n",
    "    timestamp = timestamp[:10]\n",
    "    timestamp_split = timestamp.split('-')\n",
    "    row['year'] = timestamp_split[0]\n",
    "    row['month'] = timestamp_split[1]\n",
    "    row['day'] = timestamp_split[2]\n"
   ]
  },
  {
   "cell_type": "code",
   "execution_count": 7,
   "metadata": {},
   "outputs": [],
   "source": [
    "########## Dimension and Fact tables\n",
    "# Dimension and Fact objects\n",
    "loan_dimension = CachedDimension(\n",
    "    name='loandim',\n",
    "    key='loanid',\n",
    "    attributes=['loannumber'],\n",
    "    lookupatts=['loannumber'],\n",
    "    prefill=True)\n",
    "\n",
    "eop_dimension = CachedDimension(\n",
    "    name='eopdim',\n",
    "    key='eopid',\n",
    "    attributes=['day', 'month', 'year'],\n",
    "    lookupatts=['day','month','year'],\n",
    "    prefill=True)\n",
    "\n",
    "country_dimension = CachedDimension(\n",
    "    name='countrydim',\n",
    "    key='countryid',\n",
    "    attributes=['countrycode', 'country'],\n",
    "    lookupatts=['country'],\n",
    "    prefill=True)\n",
    "\n",
    "region_dimension = CachedDimension(\n",
    "    name='regiondim',\n",
    "    key='regionid',\n",
    "    attributes=['region'],\n",
    "    lookupatts=['region'],\n",
    "    prefill=True)\n",
    "\n",
    "project_dimension = CachedDimension(\n",
    "    name='projectdim',\n",
    "    key='projectid',\n",
    "    attributes=['projectidsrc', 'projectname'],\n",
    "    lookupatts=['projectidsrc'],\n",
    "    prefill=True)\n",
    "\n",
    "fact_table = BulkFactTable(\n",
    "    name='loanfact',\n",
    "    keyrefs=['loanid', 'eopid', 'countryid','regionid','projectid'],\n",
    "    measures=['orig_principal_amt','cancelled_amt','undisbursed_amt','disbursed_amt','repaid_to_ibrd'],\n",
    "    bulkloader=bulkloader,\n",
    "    bulksize=1000000)\n"
   ]
  },
  {
   "cell_type": "code",
   "execution_count": 8,
   "metadata": {},
   "outputs": [],
   "source": [
    "########## Load Data\n",
    "for row in dataPS:\n",
    "    split_timestamp(row)\n",
    "    row['loanid'] = loan_dimension.ensure(row)\n",
    "    row['eopid'] = eop_dimension.ensure(row)\n",
    "    row['countryid'] = country_dimension.ensure(row, namemapping={'countrycode':'countrycode'})\n",
    "    row['regionid'] = region_dimension.ensure(row)\n",
    "    row['projectid'] = project_dimension.ensure(row)\n",
    "    #insert fact\n",
    "    fact_table.insert(row)\n",
    "    \n",
    "dw_conn_wrapper.commit()\n",
    "dw_conn_wrapper.close()"
   ]
  },
  {
   "cell_type": "code",
   "execution_count": null,
   "metadata": {},
   "outputs": [],
   "source": []
  }
 ],
 "metadata": {
  "kernelspec": {
   "display_name": "Python 3",
   "language": "python",
   "name": "python3"
  },
  "language_info": {
   "codemirror_mode": {
    "name": "ipython",
    "version": 3
   },
   "file_extension": ".py",
   "mimetype": "text/x-python",
   "name": "python",
   "nbconvert_exporter": "python",
   "pygments_lexer": "ipython3",
   "version": "3.7.7"
  }
 },
 "nbformat": 4,
 "nbformat_minor": 4
}
